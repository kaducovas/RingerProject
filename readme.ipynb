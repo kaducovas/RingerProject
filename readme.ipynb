{
 "cells": [
  {
   "cell_type": "markdown",
   "metadata": {},
   "source": [
    "# RingerProject framework\n",
    "\n",
    "This framework release contains all packages used to tune and analyse the Ringer algorithm.\n",
    "\n",
    "Other available releases:\n",
    "\n",
    "- [RingerTuning](https://github.com/wsfreund/RingerTuning): A shorter version containing only the needed packages for tuning the algorithm."
   ]
  },
  {
   "cell_type": "markdown",
   "metadata": {},
   "source": [
    "<h1 id=\"tocheading\">Table of Contents</h1>\n",
    "<div id=\"toc\"></div>"
   ]
  },
  {
   "cell_type": "markdown",
   "metadata": {},
   "source": [
    "# Installation\n",
    "\n",
    "First retrieve the release:\n",
    "\n",
    "```\n",
    "git clone https://github.com/joaoVictorPinto/RingerProject.git\n",
    "cd RingerProject\n",
    "```\n",
    "\n",
    "Download source content (read RootCoreMacros `setup_modules.sh` [documentation](https://github.com/wsfreund/RootCoreMacros#setup_modulessh) for more details):\n",
    "\n",
    "```\n",
    "./setup_modules.sh\n",
    "```\n",
    "\n",
    "And, finally, compile RootCore packages on this release (cf. RootCoreMacros `buildthis.sh` [documentation](https://github.com/wsfreund/RootCoreMacros#buildthissh) for more information):\n",
    "\n",
    "```\n",
    "cd root\n",
    "source buildthis.sh\n",
    "source buildthis.sh\n",
    "```"
   ]
  },
  {
   "cell_type": "markdown",
   "metadata": {},
   "source": [
    "# Usage\n",
    "\n",
    "In each session that you want to have access to the framework functionalities, it is needed to run the following command (read RootCoreMacros `setrootcore.sh` [documentation](https://github.com/wsfreund/RootCoreMacros#setrootcoresh) for more details):  \n",
    "\n",
    "```\n",
    "cd <path-to-package>/root\n",
    "source setrootcore.sh\n",
    "```\n",
    "\n",
    "For more information on how each package work, take a look on each package documentation. An overview of the packages available is [documented here](#Release-organization-overview).\n",
    "\n",
    "\n",
    "## Update to the last stable version\n",
    "\n",
    "In order to keep the package updated, run the following commands:\n",
    "\n",
    "```\n",
    "git pull origin master\n",
    "./setup_modules.sh\n",
    "```\n",
    "\n",
    "and recompile the release:\n",
    "\n",
    "```\n",
    "cd root\n",
    "source buildthis.sh --clean-env --dist-clean --no-build\n",
    "# Open new fresh shell\n",
    "source buildthis.sh\n",
    "```\n"
   ]
  },
  {
   "cell_type": "markdown",
   "metadata": {},
   "source": [
    "# Release organization overview\n",
    "\n",
    "The following packages are available in this release:\n",
    "\n",
    "- [`matlab`](https://github.com/joaoVictorPinto/MatlabRingerMiscellanea) (MatlabRingerMiscellanea package): Some matlab scripts and other web content temporarly being used to help on the analysis;\n",
    "- [`root/RingerCore`](https://github.com/wsfreund/RingerCore) (RingerCore package): Package containing base functionalities for the framework;\n",
    "- [`root/RootCoreMacros`](https://github.com/wsfreund/RootCoreMacros) (RootCoreMacros package): Provides RootCore unofficial scripts for improving user interaction with the framework;\n",
    "- [`root/TuningTools`](https://github.com/wsfreund/TuningTools) (TuningTools package): All sort of tools for tuning the algorithm;\n",
    "- [`root/RingerTrigEgammaAnalysis`](https://github.com/joaoVictorPinto/RingerTrigEgammaAnalysis) (RingerTrigEgammaAnalysis): Early Ringer algorithm analysis for the HLT Egamma.\n"
   ]
  },
  {
   "cell_type": "markdown",
   "metadata": {},
   "source": [
    "<script type=\"text/javascript\">\n",
    "    show=true;\n",
    "    function toggle(){\n",
    "        if (show){\n",
    "            $('div.input').hide();\n",
    "        }else{\n",
    "            $('div.input').show();\n",
    "        }\n",
    "        show = !show\n",
    "    }\n",
    "$.getScript('https://kmahelona.github.io/ipython_notebook_goodies/ipython_notebook_toc.js')\n",
    "</script>\n",
    "<a href=\"javascript:toggle()\" target=\"_self\"></a>"
   ]
  }
 ],
 "metadata": {
  "hide_input": false,
  "kernelspec": {
   "display_name": "Python 2",
   "language": "python",
   "name": "python2"
  },
  "language_info": {
   "codemirror_mode": {
    "name": "ipython",
    "version": 2
   },
   "file_extension": ".py",
   "mimetype": "text/x-python",
   "name": "python",
   "nbconvert_exporter": "python",
   "pygments_lexer": "ipython2",
   "version": "2.7.4"
  },
  "latex_envs": {
   "bibliofile": "biblio.bib",
   "cite_by": "apalike",
   "current_citInitial": 1,
   "eqLabelWithNumbers": true,
   "eqNumInitial": 0
  }
 },
 "nbformat": 4,
 "nbformat_minor": 0
}
